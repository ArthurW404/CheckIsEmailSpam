{
 "cells": [
  {
   "cell_type": "markdown",
   "metadata": {},
   "source": [
    "# Get and check Data"
   ]
  },
  {
   "cell_type": "code",
   "execution_count": 1,
   "metadata": {},
   "outputs": [],
   "source": [
    "# import necessary libraries\n",
    "import numpy as np\n",
    "import pandas as pd\n",
    "import re\n",
    "from sklearn.model_selection import train_test_split\n",
    "from sklearn.metrics import confusion_matrix, classification_report"
   ]
  },
  {
   "cell_type": "code",
   "execution_count": 2,
   "metadata": {
    "scrolled": true
   },
   "outputs": [
    {
     "name": "stdout",
     "output_type": "stream",
     "text": [
      "      0  0.64  0.64.1  0.1  0.32   0.2   0.3   0.4   0.5   0.6  ...  0.40  \\\n",
      "0  0.21  0.28    0.50  0.0  0.14  0.28  0.21  0.07  0.00  0.94  ...  0.00   \n",
      "1  0.06  0.00    0.71  0.0  1.23  0.19  0.19  0.12  0.64  0.25  ...  0.01   \n",
      "2  0.00  0.00    0.00  0.0  0.63  0.00  0.31  0.63  0.31  0.63  ...  0.00   \n",
      "3  0.00  0.00    0.00  0.0  0.63  0.00  0.31  0.63  0.31  0.63  ...  0.00   \n",
      "4  0.00  0.00    0.00  0.0  1.85  0.00  0.00  1.85  0.00  0.00  ...  0.00   \n",
      "\n",
      "    0.41  0.42  0.778   0.43   0.44  3.756   61   278  1  \n",
      "0  0.132   0.0  0.372  0.180  0.048  5.114  101  1028  1  \n",
      "1  0.143   0.0  0.276  0.184  0.010  9.821  485  2259  1  \n",
      "2  0.137   0.0  0.137  0.000  0.000  3.537   40   191  1  \n",
      "3  0.135   0.0  0.135  0.000  0.000  3.537   40   191  1  \n",
      "4  0.223   0.0  0.000  0.000  0.000  3.000   15    54  1  \n",
      "\n",
      "[5 rows x 58 columns]\n"
     ]
    }
   ],
   "source": [
    "# raw unprocessed data\n",
    "dataset = pd.read_csv('spambase.data')\n",
    "datanames = open('spambase.names', 'r')\n",
    "print(dataset.head())\n",
    "num_attr = dataset.shape[1]\n"
   ]
  },
  {
   "cell_type": "markdown",
   "metadata": {},
   "source": [
    "### Title Attributes\n",
    "The dataset intepreted by pandas is misaligned,\n",
    "with the column label being the features of the first email rather than its official labels"
   ]
  },
  {
   "cell_type": "code",
   "execution_count": 3,
   "metadata": {},
   "outputs": [
    {
     "name": "stdout",
     "output_type": "stream",
     "text": [
      "      word_freq_make:  word_freq_address:  word_freq_all:  word_freq_3d:  \\\n",
      "0                0.21                0.28            0.50            0.0   \n",
      "1                0.06                0.00            0.71            0.0   \n",
      "2                0.00                0.00            0.00            0.0   \n",
      "3                0.00                0.00            0.00            0.0   \n",
      "4                0.00                0.00            0.00            0.0   \n",
      "...               ...                 ...             ...            ...   \n",
      "4595             0.31                0.00            0.62            0.0   \n",
      "4596             0.00                0.00            0.00            0.0   \n",
      "4597             0.30                0.00            0.30            0.0   \n",
      "4598             0.96                0.00            0.00            0.0   \n",
      "4599             0.00                0.00            0.65            0.0   \n",
      "\n",
      "      word_freq_our:  word_freq_over:  word_freq_remove:  word_freq_internet:  \\\n",
      "0               0.14             0.28               0.21                 0.07   \n",
      "1               1.23             0.19               0.19                 0.12   \n",
      "2               0.63             0.00               0.31                 0.63   \n",
      "3               0.63             0.00               0.31                 0.63   \n",
      "4               1.85             0.00               0.00                 1.85   \n",
      "...              ...              ...                ...                  ...   \n",
      "4595            0.00             0.31               0.00                 0.00   \n",
      "4596            0.00             0.00               0.00                 0.00   \n",
      "4597            0.00             0.00               0.00                 0.00   \n",
      "4598            0.32             0.00               0.00                 0.00   \n",
      "4599            0.00             0.00               0.00                 0.00   \n",
      "\n",
      "      word_freq_order:  word_freq_mail:  ...  char_freq_;:  char_freq_(:  \\\n",
      "0                 0.00             0.94  ...         0.000         0.132   \n",
      "1                 0.64             0.25  ...         0.010         0.143   \n",
      "2                 0.31             0.63  ...         0.000         0.137   \n",
      "3                 0.31             0.63  ...         0.000         0.135   \n",
      "4                 0.00             0.00  ...         0.000         0.223   \n",
      "...                ...              ...  ...           ...           ...   \n",
      "4595              0.00             0.00  ...         0.000         0.232   \n",
      "4596              0.00             0.00  ...         0.000         0.000   \n",
      "4597              0.00             0.00  ...         0.102         0.718   \n",
      "4598              0.00             0.00  ...         0.000         0.057   \n",
      "4599              0.00             0.00  ...         0.000         0.000   \n",
      "\n",
      "      char_freq_[:  char_freq_!:  char_freq_$:  char_freq_#:  \\\n",
      "0              0.0         0.372         0.180         0.048   \n",
      "1              0.0         0.276         0.184         0.010   \n",
      "2              0.0         0.137         0.000         0.000   \n",
      "3              0.0         0.135         0.000         0.000   \n",
      "4              0.0         0.000         0.000         0.000   \n",
      "...            ...           ...           ...           ...   \n",
      "4595           0.0         0.000         0.000         0.000   \n",
      "4596           0.0         0.353         0.000         0.000   \n",
      "4597           0.0         0.000         0.000         0.000   \n",
      "4598           0.0         0.000         0.000         0.000   \n",
      "4599           0.0         0.125         0.000         0.000   \n",
      "\n",
      "      capital_run_length_average:  capital_run_length_longest:  \\\n",
      "0                           5.114                        101.0   \n",
      "1                           9.821                        485.0   \n",
      "2                           3.537                         40.0   \n",
      "3                           3.537                         40.0   \n",
      "4                           3.000                         15.0   \n",
      "...                           ...                          ...   \n",
      "4595                        1.142                          3.0   \n",
      "4596                        1.555                          4.0   \n",
      "4597                        1.404                          6.0   \n",
      "4598                        1.147                          5.0   \n",
      "4599                        1.250                          5.0   \n",
      "\n",
      "      capital_run_length_total:  is_spam:  \n",
      "0                        1028.0       1.0  \n",
      "1                        2259.0       1.0  \n",
      "2                         191.0       1.0  \n",
      "3                         191.0       1.0  \n",
      "4                          54.0       1.0  \n",
      "...                         ...       ...  \n",
      "4595                       88.0       0.0  \n",
      "4596                       14.0       0.0  \n",
      "4597                      118.0       0.0  \n",
      "4598                       78.0       0.0  \n",
      "4599                       40.0       0.0  \n",
      "\n",
      "[4600 rows x 58 columns]\n"
     ]
    }
   ],
   "source": [
    "# extracting keys for each column of the data\n",
    "def get_keys(datanames):\n",
    "    \"\"\"\n",
    "    Function which \n",
    "    \"\"\"\n",
    "    keys = []\n",
    "\n",
    "    for line in datanames:\n",
    "        line = re.match(r\"^(word|char|cap)\",line)\n",
    "        if line:\n",
    "            line = line.string # convert back into string\n",
    "            attribute = re.split(r'\\s+', line)[0]\n",
    "            keys.append(attribute)\n",
    "\n",
    "\n",
    "    # last attribute is whether email is spam or not\n",
    "    keys.append(\"is_spam:\")\n",
    "    return keys\n",
    "\n",
    "keys = get_keys(datanames)\n",
    "#  appends attribute/column keys onto raw dataset dataframe\n",
    "labelled_dataset = pd.DataFrame(data=dataset.to_numpy(), columns=keys) \n",
    "print(labelled_dataset)"
   ]
  },
  {
   "cell_type": "code",
   "execution_count": 4,
   "metadata": {},
   "outputs": [
    {
     "data": {
      "text/plain": [
       "word_freq_make:                0\n",
       "word_freq_address:             0\n",
       "word_freq_all:                 0\n",
       "word_freq_3d:                  0\n",
       "word_freq_our:                 0\n",
       "word_freq_over:                0\n",
       "word_freq_remove:              0\n",
       "word_freq_internet:            0\n",
       "word_freq_order:               0\n",
       "word_freq_mail:                0\n",
       "word_freq_receive:             0\n",
       "word_freq_will:                0\n",
       "word_freq_people:              0\n",
       "word_freq_report:              0\n",
       "word_freq_addresses:           0\n",
       "word_freq_free:                0\n",
       "word_freq_business:            0\n",
       "word_freq_email:               0\n",
       "word_freq_you:                 0\n",
       "word_freq_credit:              0\n",
       "word_freq_your:                0\n",
       "word_freq_font:                0\n",
       "word_freq_000:                 0\n",
       "word_freq_money:               0\n",
       "word_freq_hp:                  0\n",
       "word_freq_hpl:                 0\n",
       "word_freq_george:              0\n",
       "word_freq_650:                 0\n",
       "word_freq_lab:                 0\n",
       "word_freq_labs:                0\n",
       "word_freq_telnet:              0\n",
       "word_freq_857:                 0\n",
       "word_freq_data:                0\n",
       "word_freq_415:                 0\n",
       "word_freq_85:                  0\n",
       "word_freq_technology:          0\n",
       "word_freq_1999:                0\n",
       "word_freq_parts:               0\n",
       "word_freq_pm:                  0\n",
       "word_freq_direct:              0\n",
       "word_freq_cs:                  0\n",
       "word_freq_meeting:             0\n",
       "word_freq_original:            0\n",
       "word_freq_project:             0\n",
       "word_freq_re:                  0\n",
       "word_freq_edu:                 0\n",
       "word_freq_table:               0\n",
       "word_freq_conference:          0\n",
       "char_freq_;:                   0\n",
       "char_freq_(:                   0\n",
       "char_freq_[:                   0\n",
       "char_freq_!:                   0\n",
       "char_freq_$:                   0\n",
       "char_freq_#:                   0\n",
       "capital_run_length_average:    0\n",
       "capital_run_length_longest:    0\n",
       "capital_run_length_total:      0\n",
       "is_spam:                       0\n",
       "dtype: int64"
      ]
     },
     "execution_count": 4,
     "metadata": {},
     "output_type": "execute_result"
    }
   ],
   "source": [
    "# check how many null values in data\n",
    "labelled_dataset.isnull().sum()\n",
    "# TODO: Write for loop which checks whether there is a val "
   ]
  },
  {
   "cell_type": "markdown",
   "metadata": {},
   "source": [
    "# Split data into training data and testing data"
   ]
  },
  {
   "cell_type": "code",
   "execution_count": 5,
   "metadata": {},
   "outputs": [
    {
     "name": "stdout",
     "output_type": "stream",
     "text": [
      "      word_freq_make:  word_freq_address:  word_freq_all:  word_freq_3d:  \\\n",
      "0                0.21                0.28            0.50            0.0   \n",
      "1                0.06                0.00            0.71            0.0   \n",
      "2                0.00                0.00            0.00            0.0   \n",
      "3                0.00                0.00            0.00            0.0   \n",
      "4                0.00                0.00            0.00            0.0   \n",
      "...               ...                 ...             ...            ...   \n",
      "4595             0.31                0.00            0.62            0.0   \n",
      "4596             0.00                0.00            0.00            0.0   \n",
      "4597             0.30                0.00            0.30            0.0   \n",
      "4598             0.96                0.00            0.00            0.0   \n",
      "4599             0.00                0.00            0.65            0.0   \n",
      "\n",
      "      word_freq_our:  word_freq_over:  word_freq_remove:  word_freq_internet:  \\\n",
      "0               0.14             0.28               0.21                 0.07   \n",
      "1               1.23             0.19               0.19                 0.12   \n",
      "2               0.63             0.00               0.31                 0.63   \n",
      "3               0.63             0.00               0.31                 0.63   \n",
      "4               1.85             0.00               0.00                 1.85   \n",
      "...              ...              ...                ...                  ...   \n",
      "4595            0.00             0.31               0.00                 0.00   \n",
      "4596            0.00             0.00               0.00                 0.00   \n",
      "4597            0.00             0.00               0.00                 0.00   \n",
      "4598            0.32             0.00               0.00                 0.00   \n",
      "4599            0.00             0.00               0.00                 0.00   \n",
      "\n",
      "      word_freq_order:  word_freq_mail:  ...  word_freq_conference:  \\\n",
      "0                 0.00             0.94  ...                    0.0   \n",
      "1                 0.64             0.25  ...                    0.0   \n",
      "2                 0.31             0.63  ...                    0.0   \n",
      "3                 0.31             0.63  ...                    0.0   \n",
      "4                 0.00             0.00  ...                    0.0   \n",
      "...                ...              ...  ...                    ...   \n",
      "4595              0.00             0.00  ...                    0.0   \n",
      "4596              0.00             0.00  ...                    0.0   \n",
      "4597              0.00             0.00  ...                    0.0   \n",
      "4598              0.00             0.00  ...                    0.0   \n",
      "4599              0.00             0.00  ...                    0.0   \n",
      "\n",
      "      char_freq_;:  char_freq_(:  char_freq_[:  char_freq_!:  char_freq_$:  \\\n",
      "0            0.000         0.132           0.0         0.372         0.180   \n",
      "1            0.010         0.143           0.0         0.276         0.184   \n",
      "2            0.000         0.137           0.0         0.137         0.000   \n",
      "3            0.000         0.135           0.0         0.135         0.000   \n",
      "4            0.000         0.223           0.0         0.000         0.000   \n",
      "...            ...           ...           ...           ...           ...   \n",
      "4595         0.000         0.232           0.0         0.000         0.000   \n",
      "4596         0.000         0.000           0.0         0.353         0.000   \n",
      "4597         0.102         0.718           0.0         0.000         0.000   \n",
      "4598         0.000         0.057           0.0         0.000         0.000   \n",
      "4599         0.000         0.000           0.0         0.125         0.000   \n",
      "\n",
      "      char_freq_#:  capital_run_length_average:  capital_run_length_longest:  \\\n",
      "0            0.048                        5.114                        101.0   \n",
      "1            0.010                        9.821                        485.0   \n",
      "2            0.000                        3.537                         40.0   \n",
      "3            0.000                        3.537                         40.0   \n",
      "4            0.000                        3.000                         15.0   \n",
      "...            ...                          ...                          ...   \n",
      "4595         0.000                        1.142                          3.0   \n",
      "4596         0.000                        1.555                          4.0   \n",
      "4597         0.000                        1.404                          6.0   \n",
      "4598         0.000                        1.147                          5.0   \n",
      "4599         0.000                        1.250                          5.0   \n",
      "\n",
      "      capital_run_length_total:  \n",
      "0                        1028.0  \n",
      "1                        2259.0  \n",
      "2                         191.0  \n",
      "3                         191.0  \n",
      "4                          54.0  \n",
      "...                         ...  \n",
      "4595                       88.0  \n",
      "4596                       14.0  \n",
      "4597                      118.0  \n",
      "4598                       78.0  \n",
      "4599                       40.0  \n",
      "\n",
      "[4600 rows x 57 columns]\n",
      "0       1.0\n",
      "1       1.0\n",
      "2       1.0\n",
      "3       1.0\n",
      "4       1.0\n",
      "       ... \n",
      "4595    0.0\n",
      "4596    0.0\n",
      "4597    0.0\n",
      "4598    0.0\n",
      "4599    0.0\n",
      "Name: is_spam:, Length: 4600, dtype: float64\n"
     ]
    }
   ],
   "source": [
    "# seperate features from result\n",
    "X = labelled_dataset.iloc[:,:57] #\n",
    "y = labelled_dataset.iloc[:,57] # this is a binary array \n",
    "print(X)\n",
    "print(y)"
   ]
  },
  {
   "cell_type": "code",
   "execution_count": 6,
   "metadata": {},
   "outputs": [
    {
     "name": "stdout",
     "output_type": "stream",
     "text": [
      "      word_freq_make:  word_freq_address:  word_freq_all:  word_freq_3d:  \\\n",
      "1898             0.00                0.00            0.00            0.0   \n",
      "1370             0.00                0.00            0.00            0.0   \n",
      "3038             0.00                0.00            0.00            0.0   \n",
      "2361             0.00                0.00            0.00            0.0   \n",
      "156              0.00                0.00            0.00            0.0   \n",
      "...               ...                 ...             ...            ...   \n",
      "4426             0.00                0.00            0.00            0.0   \n",
      "466              0.09                0.18            0.36            0.0   \n",
      "3092             0.00               14.28            0.00            0.0   \n",
      "3772             0.00                0.00            0.00            0.0   \n",
      "860              0.14                0.00            0.28            0.0   \n",
      "\n",
      "      word_freq_our:  word_freq_over:  word_freq_remove:  word_freq_internet:  \\\n",
      "1898            0.00             0.00               0.00                 0.00   \n",
      "1370            0.00             0.00               0.00                 1.11   \n",
      "3038            0.00             0.00               0.00                 0.00   \n",
      "2361            0.00             0.00               0.00                 0.00   \n",
      "156             1.36             0.45               0.45                 0.00   \n",
      "...              ...              ...                ...                  ...   \n",
      "4426            0.00             0.00               0.00                 0.00   \n",
      "466             0.09             0.00               0.09                 0.00   \n",
      "3092            0.00             0.00               0.00                 0.00   \n",
      "3772            1.23             0.00               0.00                 0.00   \n",
      "860             0.09             0.24               0.04                 0.04   \n",
      "\n",
      "      word_freq_order:  word_freq_mail:  ...  word_freq_conference:  \\\n",
      "1898              0.00             0.00  ...                    0.0   \n",
      "1370              0.00             0.00  ...                    0.0   \n",
      "3038              0.00             0.00  ...                    0.0   \n",
      "2361              0.00             0.00  ...                    0.0   \n",
      "156               0.00             0.00  ...                    0.0   \n",
      "...                ...              ...  ...                    ...   \n",
      "4426              0.00             0.00  ...                    0.0   \n",
      "466               0.55             0.27  ...                    0.0   \n",
      "3092              0.00             0.00  ...                    0.0   \n",
      "3772              0.00             0.00  ...                    0.0   \n",
      "860               0.24             0.00  ...                    0.0   \n",
      "\n",
      "      char_freq_;:  char_freq_(:  char_freq_[:  char_freq_!:  char_freq_$:  \\\n",
      "1898           0.0         0.000           0.0         0.000         0.000   \n",
      "1370           0.0         0.208           0.0         0.208         0.416   \n",
      "3038           0.0         0.000           0.0         0.000         0.000   \n",
      "2361           0.0         0.000           0.0         0.000         0.000   \n",
      "156            0.0         0.135           0.0         0.135         0.000   \n",
      "...            ...           ...           ...           ...           ...   \n",
      "4426           0.0         0.000           0.0         0.000         0.000   \n",
      "466            0.0         0.056           0.0         0.341         0.085   \n",
      "3092           0.0         0.000           0.0         0.000         0.000   \n",
      "3772           0.0         0.468           0.0         0.000         0.000   \n",
      "860            0.0         0.061           0.0         0.007         0.099   \n",
      "\n",
      "      char_freq_#:  capital_run_length_average:  capital_run_length_longest:  \\\n",
      "1898           0.0                        5.500                         10.0   \n",
      "1370           0.0                        3.950                         23.0   \n",
      "3038           0.0                        1.526                          7.0   \n",
      "2361           0.0                        4.228                         53.0   \n",
      "156            0.0                        5.571                         46.0   \n",
      "...            ...                          ...                          ...   \n",
      "4426           0.0                        5.153                         55.0   \n",
      "466            0.0                        7.273                        103.0   \n",
      "3092           0.0                        1.800                          5.0   \n",
      "3772           0.0                        1.058                          2.0   \n",
      "860            0.0                        1.867                         14.0   \n",
      "\n",
      "      capital_run_length_total:  \n",
      "1898                       11.0  \n",
      "1370                       79.0  \n",
      "3038                       87.0  \n",
      "2361                      148.0  \n",
      "156                       117.0  \n",
      "...                         ...  \n",
      "4426                       67.0  \n",
      "466                      1171.0  \n",
      "3092                        9.0  \n",
      "3772                       18.0  \n",
      "860                       521.0  \n",
      "\n",
      "[3680 rows x 57 columns]\n",
      "1898    0.0\n",
      "1370    1.0\n",
      "3038    0.0\n",
      "2361    0.0\n",
      "156     1.0\n",
      "       ... \n",
      "4426    0.0\n",
      "466     1.0\n",
      "3092    0.0\n",
      "3772    0.0\n",
      "860     1.0\n",
      "Name: is_spam:, Length: 3680, dtype: float64\n"
     ]
    }
   ],
   "source": [
    "# Train and Test splitting of data\n",
    "X_train, X_test, y_train, y_test = train_test_split(X, y, test_size = 0.2, random_state = 42)\n",
    "print(X_train)\n",
    "print(y_train)"
   ]
  },
  {
   "cell_type": "markdown",
   "metadata": {},
   "source": [
    "# Machine Learning"
   ]
  },
  {
   "cell_type": "markdown",
   "metadata": {},
   "source": [
    "###  using randomForestClassifier"
   ]
  },
  {
   "cell_type": "code",
   "execution_count": 7,
   "metadata": {},
   "outputs": [
    {
     "data": {
      "text/plain": [
       "array([0., 0., 0., 1., 0., 0., 0., 0., 0., 0., 1., 0., 0., 1., 1., 0., 1.,\n",
       "       1., 1., 0.])"
      ]
     },
     "execution_count": 7,
     "metadata": {},
     "output_type": "execute_result"
    }
   ],
   "source": [
    "# using randomForestClassifier\n",
    "from sklearn.ensemble import RandomForestClassifier\n",
    "clf = RandomForestClassifier(n_estimators=30)\n",
    "clf = clf.fit(X_train, y_train)\n",
    "pred_clf = clf.predict(X_test)\n",
    "pred_clf[:20]\n",
    "\n"
   ]
  },
  {
   "cell_type": "code",
   "execution_count": 8,
   "metadata": {},
   "outputs": [
    {
     "name": "stdout",
     "output_type": "stream",
     "text": [
      "              precision    recall  f1-score   support\n",
      "\n",
      "         0.0       0.92      0.97      0.95       530\n",
      "         1.0       0.96      0.89      0.92       390\n",
      "\n",
      "    accuracy                           0.94       920\n",
      "   macro avg       0.94      0.93      0.93       920\n",
      "weighted avg       0.94      0.94      0.94       920\n",
      "\n",
      "[[514  16]\n",
      " [ 42 348]]\n"
     ]
    }
   ],
   "source": [
    "# check performance of ml model\n",
    "print(classification_report(y_test, pred_clf))\n",
    "print(confusion_matrix(y_test, pred_clf))"
   ]
  },
  {
   "cell_type": "markdown",
   "metadata": {},
   "source": [
    "### Using Decision Tree"
   ]
  },
  {
   "cell_type": "code",
   "execution_count": 9,
   "metadata": {},
   "outputs": [
    {
     "data": {
      "text/plain": [
       "array([0., 1., 0., 1., 0., 0., 0., 0., 0., 0., 1., 0., 0., 1., 1., 0., 1.,\n",
       "       1., 1., 0.])"
      ]
     },
     "execution_count": 9,
     "metadata": {},
     "output_type": "execute_result"
    }
   ],
   "source": [
    "from sklearn import tree\n",
    "clf = tree.DecisionTreeClassifier()\n",
    "clf.fit(X_train, y_train)\n",
    "pred_clf = clf.predict(X_test)\n",
    "pred_clf[:20]"
   ]
  },
  {
   "cell_type": "code",
   "execution_count": 10,
   "metadata": {},
   "outputs": [
    {
     "name": "stdout",
     "output_type": "stream",
     "text": [
      "              precision    recall  f1-score   support\n",
      "\n",
      "         0.0       0.92      0.95      0.94       530\n",
      "         1.0       0.93      0.89      0.91       390\n",
      "\n",
      "    accuracy                           0.93       920\n",
      "   macro avg       0.93      0.92      0.92       920\n",
      "weighted avg       0.93      0.93      0.92       920\n",
      "\n",
      "[[504  26]\n",
      " [ 43 347]]\n"
     ]
    }
   ],
   "source": [
    "# check performance of ml model\n",
    "print(classification_report(y_test, pred_clf))\n",
    "print(confusion_matrix(y_test, pred_clf))"
   ]
  },
  {
   "cell_type": "markdown",
   "metadata": {},
   "source": [
    "### using neural network"
   ]
  },
  {
   "cell_type": "code",
   "execution_count": 11,
   "metadata": {},
   "outputs": [],
   "source": [
    "# using neural network\n",
    "from sklearn.neural_network import MLPClassifier"
   ]
  },
  {
   "cell_type": "code",
   "execution_count": 12,
   "metadata": {},
   "outputs": [
    {
     "data": {
      "text/plain": [
       "array([0., 0., 0., 1., 0., 0., 0., 0., 0., 1., 0., 0., 0., 1., 1., 0., 1.,\n",
       "       1., 1., 0.])"
      ]
     },
     "execution_count": 12,
     "metadata": {},
     "output_type": "execute_result"
    }
   ],
   "source": [
    "clf = MLPClassifier(alpha=1e-5, hidden_layer_sizes=(num_attr, num_attr, num_attr), random_state=1)\n",
    "\n",
    "# convert X_train array into double in order to use MLPClassifier\n",
    "X_train = X_train.astype(np.float64)\n",
    "X_test = X_test.astype(np.float64)\n",
    "\n",
    "\n",
    "clf.fit(X_train, y_train)\n",
    "pred_clf = clf.predict(X_test)\n",
    "pred_clf[:20]"
   ]
  },
  {
   "cell_type": "code",
   "execution_count": 13,
   "metadata": {},
   "outputs": [
    {
     "name": "stdout",
     "output_type": "stream",
     "text": [
      "              precision    recall  f1-score   support\n",
      "\n",
      "         0.0       0.92      0.90      0.91       530\n",
      "         1.0       0.86      0.89      0.88       390\n",
      "\n",
      "    accuracy                           0.89       920\n",
      "   macro avg       0.89      0.89      0.89       920\n",
      "weighted avg       0.90      0.89      0.89       920\n",
      "\n",
      "[[475  55]\n",
      " [ 42 348]]\n"
     ]
    }
   ],
   "source": [
    "# check performance of ml model\n",
    "print(classification_report(y_test, pred_clf))\n",
    "print(confusion_matrix(y_test, pred_clf))"
   ]
  },
  {
   "cell_type": "code",
   "execution_count": null,
   "metadata": {},
   "outputs": [],
   "source": []
  }
 ],
 "metadata": {
  "kernelspec": {
   "display_name": "Python 3",
   "language": "python",
   "name": "python3"
  },
  "language_info": {
   "codemirror_mode": {
    "name": "ipython",
    "version": 3
   },
   "file_extension": ".py",
   "mimetype": "text/x-python",
   "name": "python",
   "nbconvert_exporter": "python",
   "pygments_lexer": "ipython3",
   "version": "3.6.9"
  }
 },
 "nbformat": 4,
 "nbformat_minor": 1
}
