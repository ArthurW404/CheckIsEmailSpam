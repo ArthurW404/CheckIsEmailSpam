{
  "cells": [
    {
      "metadata": {},
      "cell_type": "markdown",
      "source": "# Get and check Data"
    },
    {
      "metadata": {
        "trusted": true
      },
      "cell_type": "code",
      "source": "# import necessary libraries\nimport numpy as np\nimport pandas as pd\nimport re\nfrom sklearn.model_selection import train_test_split",
      "execution_count": 1,
      "outputs": []
    },
    {
      "metadata": {
        "trusted": true
      },
      "cell_type": "code",
      "source": "dataset = pd.read_csv('spambase.data')\ndatanames = open('spambase.names', 'r')\nprint(dataset.head())\nnum_attr = dataset.shape[1]",
      "execution_count": 2,
      "outputs": [
        {
          "output_type": "stream",
          "text": "      0  0.64  0.64.1  0.1  0.32   0.2   0.3   0.4   0.5   0.6 ...  0.40  \\\n0  0.21  0.28    0.50  0.0  0.14  0.28  0.21  0.07  0.00  0.94 ...  0.00   \n1  0.06  0.00    0.71  0.0  1.23  0.19  0.19  0.12  0.64  0.25 ...  0.01   \n2  0.00  0.00    0.00  0.0  0.63  0.00  0.31  0.63  0.31  0.63 ...  0.00   \n3  0.00  0.00    0.00  0.0  0.63  0.00  0.31  0.63  0.31  0.63 ...  0.00   \n4  0.00  0.00    0.00  0.0  1.85  0.00  0.00  1.85  0.00  0.00 ...  0.00   \n\n    0.41  0.42  0.778   0.43   0.44  3.756   61   278  1  \n0  0.132   0.0  0.372  0.180  0.048  5.114  101  1028  1  \n1  0.143   0.0  0.276  0.184  0.010  9.821  485  2259  1  \n2  0.137   0.0  0.137  0.000  0.000  3.537   40   191  1  \n3  0.135   0.0  0.135  0.000  0.000  3.537   40   191  1  \n4  0.223   0.0  0.000  0.000  0.000  3.000   15    54  1  \n\n[5 rows x 58 columns]\n",
          "name": "stdout"
        }
      ]
    },
    {
      "metadata": {
        "trusted": true
      },
      "cell_type": "code",
      "source": "# check how many null values in data\ndataset.isnull().sum()",
      "execution_count": 3,
      "outputs": [
        {
          "output_type": "execute_result",
          "execution_count": 3,
          "data": {
            "text/plain": "0         0\n0.64      0\n0.64.1    0\n0.1       0\n0.32      0\n0.2       0\n0.3       0\n0.4       0\n0.5       0\n0.6       0\n0.7       0\n0.64.2    0\n0.8       0\n0.9       0\n0.10      0\n0.32.1    0\n0.11      0\n1.29      0\n1.93      0\n0.12      0\n0.96      0\n0.13      0\n0.14      0\n0.15      0\n0.16      0\n0.17      0\n0.18      0\n0.19      0\n0.20      0\n0.21      0\n0.22      0\n0.23      0\n0.24      0\n0.25      0\n0.26      0\n0.27      0\n0.28      0\n0.29      0\n0.30      0\n0.31      0\n0.32.2    0\n0.33      0\n0.34      0\n0.35      0\n0.36      0\n0.37      0\n0.38      0\n0.39      0\n0.40      0\n0.41      0\n0.42      0\n0.778     0\n0.43      0\n0.44      0\n3.756     0\n61        0\n278       0\n1         0\ndtype: int64"
          },
          "metadata": {}
        }
      ]
    },
    {
      "metadata": {},
      "cell_type": "markdown",
      "source": "# Title Attributes"
    },
    {
      "metadata": {
        "trusted": true
      },
      "cell_type": "code",
      "source": "# extracting keys for each column of the data\nkeys = []\n\nfor line in datanames:\n    line = re.match(r\"^(word|char|cap)\",line)\n    if line:\n        line = line.string # convert back into string\n        attribute = re.split(r'\\s+', line)[0]\n        keys.append(attribute)\n\n\n# last attribute is whether email is spam or not\nkeys.append(\"is_spam:\")\n\n# attach keys to data set\nlabelled_dataset = np.vstack((keys,dataset))\n\nprint(keys)\nprint(len(keys))",
      "execution_count": 4,
      "outputs": [
        {
          "output_type": "stream",
          "text": "['word_freq_make:', 'word_freq_address:', 'word_freq_all:', 'word_freq_3d:', 'word_freq_our:', 'word_freq_over:', 'word_freq_remove:', 'word_freq_internet:', 'word_freq_order:', 'word_freq_mail:', 'word_freq_receive:', 'word_freq_will:', 'word_freq_people:', 'word_freq_report:', 'word_freq_addresses:', 'word_freq_free:', 'word_freq_business:', 'word_freq_email:', 'word_freq_you:', 'word_freq_credit:', 'word_freq_your:', 'word_freq_font:', 'word_freq_000:', 'word_freq_money:', 'word_freq_hp:', 'word_freq_hpl:', 'word_freq_george:', 'word_freq_650:', 'word_freq_lab:', 'word_freq_labs:', 'word_freq_telnet:', 'word_freq_857:', 'word_freq_data:', 'word_freq_415:', 'word_freq_85:', 'word_freq_technology:', 'word_freq_1999:', 'word_freq_parts:', 'word_freq_pm:', 'word_freq_direct:', 'word_freq_cs:', 'word_freq_meeting:', 'word_freq_original:', 'word_freq_project:', 'word_freq_re:', 'word_freq_edu:', 'word_freq_table:', 'word_freq_conference:', 'char_freq_;:', 'char_freq_(:', 'char_freq_[:', 'char_freq_!:', 'char_freq_$:', 'char_freq_#:', 'capital_run_length_average:', 'capital_run_length_longest:', 'capital_run_length_total:', 'is_spam:']\n58\n",
          "name": "stdout"
        }
      ]
    },
    {
      "metadata": {
        "trusted": true
      },
      "cell_type": "code",
      "source": "",
      "execution_count": null,
      "outputs": []
    },
    {
      "metadata": {
        "trusted": true
      },
      "cell_type": "code",
      "source": "# seperate features from result\nX = labelled_dataset[1:,:57]\ny = labelled_dataset[1:,57]\nprint(X)",
      "execution_count": 5,
      "outputs": [
        {
          "output_type": "stream",
          "text": "[['0.21' '0.28' '0.5' ... '5.114' '101.0' '1028.0']\n ['0.06' '0.0' '0.71' ... '9.821' '485.0' '2259.0']\n ['0.0' '0.0' '0.0' ... '3.537' '40.0' '191.0']\n ...\n ['0.3' '0.0' '0.3' ... '1.4040000000000001' '6.0' '118.0']\n ['0.96' '0.0' '0.0' ... '1.147' '5.0' '78.0']\n ['0.0' '0.0' '0.65' ... '1.25' '5.0' '40.0']]\n",
          "name": "stdout"
        }
      ]
    },
    {
      "metadata": {
        "trusted": true
      },
      "cell_type": "code",
      "source": "# Train and Test splitting of data\nX_train, X_test, y_train, y_test = train_test_split(X, y, test_size = 0.2, random_state = 42)",
      "execution_count": 6,
      "outputs": []
    },
    {
      "metadata": {},
      "cell_type": "markdown",
      "source": "# Machine Learning"
    },
    {
      "metadata": {
        "trusted": true
      },
      "cell_type": "code",
      "source": "# using randomForestClassifier\nfrom sklearn.ensemble import RandomForestClassifier\n\nclf = RandomForestClassifier(n_estimators=10)\nclf = clf.fit(X_train, y_train)\npred_clf = clf.predict(X_test)\npred_clf[:20]",
      "execution_count": 8,
      "outputs": [
        {
          "output_type": "execute_result",
          "execution_count": 8,
          "data": {
            "text/plain": "array(['0.0', '0.0', '0.0', '1.0', '0.0', '0.0', '0.0', '0.0', '0.0',\n       '0.0', '1.0', '0.0', '0.0', '1.0', '1.0', '0.0', '1.0', '1.0',\n       '1.0', '0.0'], dtype='<U32')"
          },
          "metadata": {}
        }
      ]
    },
    {
      "metadata": {
        "trusted": true
      },
      "cell_type": "code",
      "source": "# check performance of ml model\nfrom sklearn.metrics import confusion_matrix, classification_report\n\nprint(classification_report(y_test, pred_clf))\nprint(confusion_matrix(y_test, pred_clf))",
      "execution_count": 15,
      "outputs": [
        {
          "output_type": "stream",
          "text": "              precision    recall  f1-score   support\n\n         0.0       0.91      0.97      0.94       530\n         1.0       0.95      0.87      0.91       390\n\n   micro avg       0.93      0.93      0.93       920\n   macro avg       0.93      0.92      0.92       920\nweighted avg       0.93      0.93      0.92       920\n\n[[512  18]\n [ 51 339]]\n",
          "name": "stdout"
        }
      ]
    },
    {
      "metadata": {
        "trusted": true
      },
      "cell_type": "code",
      "source": "",
      "execution_count": null,
      "outputs": []
    }
  ],
  "metadata": {
    "kernelspec": {
      "name": "python36",
      "display_name": "Python 3.6",
      "language": "python"
    },
    "language_info": {
      "mimetype": "text/x-python",
      "nbconvert_exporter": "python",
      "name": "python",
      "pygments_lexer": "ipython3",
      "version": "3.6.6",
      "file_extension": ".py",
      "codemirror_mode": {
        "version": 3,
        "name": "ipython"
      }
    }
  },
  "nbformat": 4,
  "nbformat_minor": 1
}